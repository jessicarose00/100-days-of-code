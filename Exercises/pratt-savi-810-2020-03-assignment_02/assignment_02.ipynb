{
 "cells": [
  {
   "cell_type": "markdown",
   "metadata": {},
   "source": [
    "# Assignment 02\n",
    "\n",
    "\n",
    "![http://www.pratt.edu/tiny_mce/plugins/imagemanager/files/Light_brown_blue22.jpg](http://www.pratt.edu/tiny_mce/plugins/imagemanager/files/Light_brown_blue22.jpg)"
   ]
  },
  {
   "cell_type": "markdown",
   "metadata": {
    "toc": true
   },
   "source": [
    "<h1>Table of Contents<span class=\"tocSkip\"></span></h1>\n",
    "<div class=\"toc\"><ul class=\"toc-item\"><li><span><a href=\"#Assignment-02\" data-toc-modified-id=\"Assignment-02-1\">Assignment 02</a></span><ul class=\"toc-item\"><li><span><a href=\"#Instructions\" data-toc-modified-id=\"Instructions-1.1\">Instructions</a></span></li></ul></li><li><span><a href=\"#Import-Libraries\" data-toc-modified-id=\"Import-Libraries-2\">Import Libraries</a></span></li><li><span><a href=\"#Collect-the-Necessary-Data\" data-toc-modified-id=\"Collect-the-Necessary-Data-3\">Collect the Necessary Data</a></span><ul class=\"toc-item\"><li><span><a href=\"#Hospitals-Data\" data-toc-modified-id=\"Hospitals-Data-3.1\">Hospitals Data</a></span><ul class=\"toc-item\"><li><ul class=\"toc-item\"><li><span><a href=\"#Load-this-file-into-a-GeoDataFrame\" data-toc-modified-id=\"Load-this-file-into-a-GeoDataFrame-3.1.0.1\">Load this file into a GeoDataFrame</a></span></li><li><span><a href=\"#Check-the-first-3-rows-(aka-the-head())-of-the-DataFrame\" data-toc-modified-id=\"Check-the-first-3-rows-(aka-the-head())-of-the-DataFrame-3.1.0.2\">Check the first 3 rows (aka the head()) of the DataFrame</a></span></li><li><span><a href=\"#Query-the-Hospitals-GeoDataFrame-to-only-include-NY-State-Hospitals.\" data-toc-modified-id=\"Query-the-Hospitals-GeoDataFrame-to-only-include-NY-State-Hospitals.-3.1.0.3\">Query the Hospitals GeoDataFrame to only include NY State Hospitals.</a></span></li><li><span><a href=\"#Next-let's-Query-only-include-Hospitals-in-New-York-City-Counties\" data-toc-modified-id=\"Next-let's-Query-only-include-Hospitals-in-New-York-City-Counties-3.1.0.4\">Next let's Query only include Hospitals in New York City Counties</a></span></li><li><span><a href=\"#Check-the-first-3-rows-(aka-the-head())-of-the-DataFrame\" data-toc-modified-id=\"Check-the-first-3-rows-(aka-the-head())-of-the-DataFrame-3.1.0.5\">Check the first 3 rows (aka the head()) of the DataFrame</a></span></li><li><span><a href=\"#You've-been-supplied-code-to-reclass--999-Missing-Values-to-Null\" data-toc-modified-id=\"You've-been-supplied-code-to-reclass--999-Missing-Values-to-Null-3.1.0.6\">You've been supplied code to reclass -999 Missing Values to Null</a></span></li><li><span><a href=\"#Plot-the-Distribution-of-NYC-Hospital-Beds-in-a-Histogram-Plot\" data-toc-modified-id=\"Plot-the-Distribution-of-NYC-Hospital-Beds-in-a-Histogram-Plot-3.1.0.7\">Plot the Distribution of NYC Hospital Beds in a Histogram Plot</a></span></li><li><span><a href=\"#Do-a-quick-GeoDataFrame-Map--.plot()-to-see-our-the-spatial-distribution-of-our-data\" data-toc-modified-id=\"Do-a-quick-GeoDataFrame-Map--.plot()-to-see-our-the-spatial-distribution-of-our-data-3.1.0.8\">Do a quick GeoDataFrame Map  <code>.plot()</code> to see our the spatial distribution of our data</a></span></li><li><span><a href=\"#We'll-use-our-boro_data-Dictionary-from-Assignment-01\" data-toc-modified-id=\"We'll-use-our-boro_data-Dictionary-from-Assignment-01-3.1.0.9\">We'll use our <code>boro_data</code> Dictionary from Assignment 01</a></span></li><li><span><a href=\"#Let's-check-out-boro_df\" data-toc-modified-id=\"Let's-check-out-boro_df-3.1.0.10\">Let's check out <code>boro_df</code></a></span></li><li><span><a href=\"#Run-a-.merge()-to-add-the-boro_df-data-to-the-nyc_hospitals-GeoDataFrame\" data-toc-modified-id=\"Run-a-.merge()-to-add-the-boro_df-data-to-the-nyc_hospitals-GeoDataFrame-3.1.0.11\">Run a <code>.merge()</code> to add the <code>boro_df</code> data to the <code>nyc_hospitals</code> GeoDataFrame</a></span></li><li><span><a href=\"#Display-the-first-10-rows-of-the-GeoDataFrame-.head(...-hint,-n=)\" data-toc-modified-id=\"Display-the-first-10-rows-of-the-GeoDataFrame-.head(...-hint,-n=)-3.1.0.12\">Display the first 10 rows of the GeoDataFrame <code>.head(... hint, n=)</code></a></span></li><li><span><a href=\"#Groupby-and-Sum-the-BEDS-variable\" data-toc-modified-id=\"Groupby-and-Sum-the-BEDS-variable-3.1.0.13\">Groupby and Sum the BEDS variable</a></span></li><li><span><a href=\"#Display-the-.head()-of-grouped\" data-toc-modified-id=\"Display-the-.head()-of-grouped-3.1.0.14\">Display the <code>.head()</code> of <code>grouped</code></a></span></li><li><span><a href=\"#Create-a-new-column-called-boro_pop_per_hosp_bed.\" data-toc-modified-id=\"Create-a-new-column-called-boro_pop_per_hosp_bed.-3.1.0.15\">Create a new column called <code>boro_pop_per_hosp_bed</code>.</a></span></li><li><span><a href=\"#This-column-will-be-the-Calculation-of-Population-/-Beds--(-/-meaning-divided-by)\" data-toc-modified-id=\"This-column-will-be-the-Calculation-of-Population-/-Beds--(-/-meaning-divided-by)-3.1.0.16\">This column will be the Calculation of Population / Beds  ( / meaning divided by)</a></span></li><li><span><a href=\"#Display-the-.head()-of-grouped-DataFrame-to-check-our-results\" data-toc-modified-id=\"Display-the-.head()-of-grouped-DataFrame-to-check-our-results-3.1.0.17\">Display the <code>.head()</code> of <code>grouped</code> DataFrame to check our results</a></span></li><li><span><a href=\"#Plot-a-bar-chart-showing-Borough-Population-per-Hospital-Bed\" data-toc-modified-id=\"Plot-a-bar-chart-showing-Borough-Population-per-Hospital-Bed-3.1.0.18\">Plot a bar chart showing Borough Population per Hospital Bed</a></span></li></ul></li></ul></li></ul></li><li><span><a href=\"#Map-our-Final-Results\" data-toc-modified-id=\"Map-our-Final-Results-4\">Map our Final Results</a></span><ul class=\"toc-item\"><li><ul class=\"toc-item\"><li><ul class=\"toc-item\"><li><span><a href=\"#Read-in-boro_geojso_link-as-GeoDataFrame-called-boro\" data-toc-modified-id=\"Read-in-boro_geojso_link-as-GeoDataFrame-called-boro-4.0.0.1\">Read in <code>boro_geojso_link</code> as GeoDataFrame called <code>boro</code></a></span></li><li><span><a href=\"#Merge-boro-to-grouped-on-boro_code-with-a-'left'-as-how=\" data-toc-modified-id=\"Merge-boro-to-grouped-on-boro_code-with-a-'left'-as-how=-4.0.0.2\">Merge <code>boro</code> to <code>grouped</code> on <code>boro_code</code> with a 'left' as <code>how=</code></a></span></li></ul></li></ul></li></ul></li></ul></div>"
   ]
  },
  {
   "cell_type": "markdown",
   "metadata": {},
   "source": [
    "## Instructions\n",
    "\n",
    "---\n",
    "\n",
    "You are a new hire in NYC Government's new Department of Geospatial Technology. Your manager has asked you to complete the following assignment.\n",
    "\n",
    "The Mayor of the City of New York and the Governor of New York State have tasked your team in evaluating the **number of hospital beds** per **population** by **borough**. "
   ]
  },
  {
   "cell_type": "markdown",
   "metadata": {},
   "source": [
    "# Import Libraries\n",
    "The libraries required for this assignment are imported for you below."
   ]
  },
  {
   "cell_type": "code",
   "execution_count": 1,
   "metadata": {},
   "outputs": [],
   "source": [
    "import pandas as pd\n",
    "import geopandas as gpd \n",
    "import numpy as np\n",
    "import matplotlib.pyplot as plt"
   ]
  },
  {
   "cell_type": "code",
   "execution_count": 2,
   "metadata": {},
   "outputs": [],
   "source": [
    "%matplotlib inline"
   ]
  },
  {
   "cell_type": "code",
   "execution_count": 3,
   "metadata": {},
   "outputs": [],
   "source": [
    "plt.style.use('ggplot')  # we're going to use ggplot styled plots"
   ]
  },
  {
   "cell_type": "markdown",
   "metadata": {},
   "source": [
    "# Collect the Necessary Data"
   ]
  },
  {
   "cell_type": "markdown",
   "metadata": {},
   "source": [
    "## Hospitals Data\n",
    "\n",
    "You've been supplied the url for the Hospitals Data to use. Run the cell below. "
   ]
  },
  {
   "cell_type": "code",
   "execution_count": 4,
   "metadata": {},
   "outputs": [],
   "source": [
    "geojson_link = 'https://opendata.arcgis.com/datasets/6ac5e325468c4cb9b905f1728d6fbf0f_0.geojson'"
   ]
  },
  {
   "cell_type": "markdown",
   "metadata": {},
   "source": [
    "#### Load this file into a GeoDataFrame\n",
    "See **Lesson 03 GeoPandas section** for reference. \n",
    "\n",
    "You're being asking to load the GeoDataFrame as a variable named `gdf`. \n",
    "\n",
    "```python\n",
    "\n",
    "gdf = # \"read\" the \"file\" - file being the .geoson link above\n",
    "\n",
    "```"
   ]
  },
  {
   "cell_type": "code",
   "execution_count": 7,
   "metadata": {},
   "outputs": [],
   "source": [
    "gdf = gpd.read_file(geojson_link)"
   ]
  },
  {
   "cell_type": "markdown",
   "metadata": {},
   "source": [
    "#### Check the first 3 rows (aka the head()) of the DataFrame "
   ]
  },
  {
   "cell_type": "code",
   "execution_count": 9,
   "metadata": {},
   "outputs": [
    {
     "data": {
      "text/html": [
       "<div>\n",
       "<style scoped>\n",
       "    .dataframe tbody tr th:only-of-type {\n",
       "        vertical-align: middle;\n",
       "    }\n",
       "\n",
       "    .dataframe tbody tr th {\n",
       "        vertical-align: top;\n",
       "    }\n",
       "\n",
       "    .dataframe thead th {\n",
       "        text-align: right;\n",
       "    }\n",
       "</style>\n",
       "<table border=\"1\" class=\"dataframe\">\n",
       "  <thead>\n",
       "    <tr style=\"text-align: right;\">\n",
       "      <th></th>\n",
       "      <th>FID</th>\n",
       "      <th>ID</th>\n",
       "      <th>NAME</th>\n",
       "      <th>ADDRESS</th>\n",
       "      <th>CITY</th>\n",
       "      <th>STATE</th>\n",
       "      <th>ZIP</th>\n",
       "      <th>ZIP4</th>\n",
       "      <th>TELEPHONE</th>\n",
       "      <th>TYPE</th>\n",
       "      <th>...</th>\n",
       "      <th>WEBSITE</th>\n",
       "      <th>STATE_ID</th>\n",
       "      <th>ALT_NAME</th>\n",
       "      <th>ST_FIPS</th>\n",
       "      <th>OWNER</th>\n",
       "      <th>TTL_STAFF</th>\n",
       "      <th>BEDS</th>\n",
       "      <th>TRAUMA</th>\n",
       "      <th>HELIPAD</th>\n",
       "      <th>geometry</th>\n",
       "    </tr>\n",
       "  </thead>\n",
       "  <tbody>\n",
       "    <tr>\n",
       "      <th>0</th>\n",
       "      <td>1</td>\n",
       "      <td>0005793230</td>\n",
       "      <td>CENTRAL VALLEY GENERAL HOSPITAL</td>\n",
       "      <td>1025 NORTH DOUTY STREET</td>\n",
       "      <td>HANFORD</td>\n",
       "      <td>CA</td>\n",
       "      <td>93230</td>\n",
       "      <td>NOT AVAILABLE</td>\n",
       "      <td>NOT AVAILABLE</td>\n",
       "      <td>GENERAL ACUTE CARE</td>\n",
       "      <td>...</td>\n",
       "      <td>http://www.hanfordhealth.com</td>\n",
       "      <td>NOT AVAILABLE</td>\n",
       "      <td>NOT AVAILABLE</td>\n",
       "      <td>06</td>\n",
       "      <td>PROPRIETARY</td>\n",
       "      <td>-999</td>\n",
       "      <td>49.0</td>\n",
       "      <td>NOT AVAILABLE</td>\n",
       "      <td>N</td>\n",
       "      <td>POINT (-119.64567 36.33616)</td>\n",
       "    </tr>\n",
       "    <tr>\n",
       "      <th>1</th>\n",
       "      <td>2</td>\n",
       "      <td>0053391362</td>\n",
       "      <td>LOS ROBLES HOSPITAL &amp; MEDICAL CENTER - EAST CA...</td>\n",
       "      <td>150 VIA MERIDA</td>\n",
       "      <td>WESTLAKE VILAGE</td>\n",
       "      <td>CA</td>\n",
       "      <td>91362</td>\n",
       "      <td>NOT AVAILABLE</td>\n",
       "      <td>NOT AVAILABLE</td>\n",
       "      <td>GENERAL ACUTE CARE</td>\n",
       "      <td>...</td>\n",
       "      <td>http://www.losrobleshospital.com</td>\n",
       "      <td>NOT AVAILABLE</td>\n",
       "      <td>NOT AVAILABLE</td>\n",
       "      <td>06</td>\n",
       "      <td>PROPRIETARY</td>\n",
       "      <td>-999</td>\n",
       "      <td>62.0</td>\n",
       "      <td>NOT AVAILABLE</td>\n",
       "      <td>N</td>\n",
       "      <td>POINT (-118.81574 34.15494)</td>\n",
       "    </tr>\n",
       "    <tr>\n",
       "      <th>2</th>\n",
       "      <td>3</td>\n",
       "      <td>0011190023</td>\n",
       "      <td>EAST LOS ANGELES DOCTORS HOSPITAL</td>\n",
       "      <td>4060 WHITTIER BOULEVARD</td>\n",
       "      <td>LOS ANGELES</td>\n",
       "      <td>CA</td>\n",
       "      <td>90023</td>\n",
       "      <td>NOT AVAILABLE</td>\n",
       "      <td>NOT AVAILABLE</td>\n",
       "      <td>GENERAL ACUTE CARE</td>\n",
       "      <td>...</td>\n",
       "      <td>http://www.elalax.com</td>\n",
       "      <td>NOT AVAILABLE</td>\n",
       "      <td>NOT AVAILABLE</td>\n",
       "      <td>06</td>\n",
       "      <td>PROPRIETARY</td>\n",
       "      <td>-999</td>\n",
       "      <td>127.0</td>\n",
       "      <td>NOT AVAILABLE</td>\n",
       "      <td>N</td>\n",
       "      <td>POINT (-118.18416 34.02365)</td>\n",
       "    </tr>\n",
       "  </tbody>\n",
       "</table>\n",
       "<p>3 rows × 33 columns</p>\n",
       "</div>"
      ],
      "text/plain": [
       "   FID          ID                                               NAME  \\\n",
       "0    1  0005793230                    CENTRAL VALLEY GENERAL HOSPITAL   \n",
       "1    2  0053391362  LOS ROBLES HOSPITAL & MEDICAL CENTER - EAST CA...   \n",
       "2    3  0011190023                  EAST LOS ANGELES DOCTORS HOSPITAL   \n",
       "\n",
       "                   ADDRESS             CITY STATE    ZIP           ZIP4  \\\n",
       "0  1025 NORTH DOUTY STREET          HANFORD    CA  93230  NOT AVAILABLE   \n",
       "1           150 VIA MERIDA  WESTLAKE VILAGE    CA  91362  NOT AVAILABLE   \n",
       "2  4060 WHITTIER BOULEVARD      LOS ANGELES    CA  90023  NOT AVAILABLE   \n",
       "\n",
       "       TELEPHONE                TYPE  ...                           WEBSITE  \\\n",
       "0  NOT AVAILABLE  GENERAL ACUTE CARE  ...      http://www.hanfordhealth.com   \n",
       "1  NOT AVAILABLE  GENERAL ACUTE CARE  ...  http://www.losrobleshospital.com   \n",
       "2  NOT AVAILABLE  GENERAL ACUTE CARE  ...             http://www.elalax.com   \n",
       "\n",
       "        STATE_ID       ALT_NAME ST_FIPS        OWNER  TTL_STAFF   BEDS  \\\n",
       "0  NOT AVAILABLE  NOT AVAILABLE      06  PROPRIETARY       -999   49.0   \n",
       "1  NOT AVAILABLE  NOT AVAILABLE      06  PROPRIETARY       -999   62.0   \n",
       "2  NOT AVAILABLE  NOT AVAILABLE      06  PROPRIETARY       -999  127.0   \n",
       "\n",
       "          TRAUMA HELIPAD                     geometry  \n",
       "0  NOT AVAILABLE       N  POINT (-119.64567 36.33616)  \n",
       "1  NOT AVAILABLE       N  POINT (-118.81574 34.15494)  \n",
       "2  NOT AVAILABLE       N  POINT (-118.18416 34.02365)  \n",
       "\n",
       "[3 rows x 33 columns]"
      ]
     },
     "execution_count": 9,
     "metadata": {},
     "output_type": "execute_result"
    }
   ],
   "source": [
    "gdf.head(3)"
   ]
  },
  {
   "cell_type": "markdown",
   "metadata": {},
   "source": [
    "#### Query the Hospitals GeoDataFrame to only include NY State Hospitals. "
   ]
  },
  {
   "cell_type": "code",
   "execution_count": 10,
   "metadata": {},
   "outputs": [],
   "source": [
    "ny_state_hospitals = gdf[gdf['STATE'] == 'NY']"
   ]
  },
  {
   "cell_type": "markdown",
   "metadata": {},
   "source": [
    "#### Next let's Query only include Hospitals in New York City Counties\n",
    "\n",
    "There are five (5) counties in New York City. They have FIPS codes. So we want to select from the following county FIPS codes:\n",
    "\n",
    "* 36081\n",
    "* 36061\n",
    "* 36085\n",
    "* 36047\n",
    "* 36005\n",
    "\n",
    "You'll need to use the \"OR\" statement in your query `|`, you've been provided most of the code, but you need to enter the strings into the query. "
   ]
  },
  {
   "cell_type": "code",
   "execution_count": 11,
   "metadata": {},
   "outputs": [],
   "source": [
    "nyc_hospitals = ny_state_hospitals[ \n",
    "    (\n",
    "        (ny_state_hospitals['COUNTYFIPS'] == '36081') | # <place FIPS codes here>\n",
    "        (ny_state_hospitals['COUNTYFIPS'] == '36061') |  # <place FIPS codes here>\n",
    "        (ny_state_hospitals['COUNTYFIPS'] == '36085') |  # <place FIPS codes here>\n",
    "        (ny_state_hospitals['COUNTYFIPS'] == '36047') |  # <place FIPS codes here>\n",
    "        (ny_state_hospitals['COUNTYFIPS'] == '36005')    # <place FIPS codes here>\n",
    "    )  \n",
    "\n",
    "    \n",
    "] # selects only nyc counties hospitals, creates new dataframe"
   ]
  },
  {
   "cell_type": "markdown",
   "metadata": {},
   "source": [
    "#### Check the first 3 rows (aka the head()) of the DataFrame "
   ]
  },
  {
   "cell_type": "code",
   "execution_count": 12,
   "metadata": {},
   "outputs": [
    {
     "data": {
      "text/html": [
       "<div>\n",
       "<style scoped>\n",
       "    .dataframe tbody tr th:only-of-type {\n",
       "        vertical-align: middle;\n",
       "    }\n",
       "\n",
       "    .dataframe tbody tr th {\n",
       "        vertical-align: top;\n",
       "    }\n",
       "\n",
       "    .dataframe thead th {\n",
       "        text-align: right;\n",
       "    }\n",
       "</style>\n",
       "<table border=\"1\" class=\"dataframe\">\n",
       "  <thead>\n",
       "    <tr style=\"text-align: right;\">\n",
       "      <th></th>\n",
       "      <th>FID</th>\n",
       "      <th>ID</th>\n",
       "      <th>NAME</th>\n",
       "      <th>ADDRESS</th>\n",
       "      <th>CITY</th>\n",
       "      <th>STATE</th>\n",
       "      <th>ZIP</th>\n",
       "      <th>ZIP4</th>\n",
       "      <th>TELEPHONE</th>\n",
       "      <th>TYPE</th>\n",
       "      <th>...</th>\n",
       "      <th>WEBSITE</th>\n",
       "      <th>STATE_ID</th>\n",
       "      <th>ALT_NAME</th>\n",
       "      <th>ST_FIPS</th>\n",
       "      <th>OWNER</th>\n",
       "      <th>TTL_STAFF</th>\n",
       "      <th>BEDS</th>\n",
       "      <th>TRAUMA</th>\n",
       "      <th>HELIPAD</th>\n",
       "      <th>geometry</th>\n",
       "    </tr>\n",
       "  </thead>\n",
       "  <tbody>\n",
       "    <tr>\n",
       "      <th>318</th>\n",
       "      <td>320</td>\n",
       "      <td>0015310466</td>\n",
       "      <td>MONTEFIORE MEDICAL CENTER - MOSES DIVISION</td>\n",
       "      <td>111 E 210TH ST</td>\n",
       "      <td>BRONX</td>\n",
       "      <td>NY</td>\n",
       "      <td>10466</td>\n",
       "      <td>NOT AVAILABLE</td>\n",
       "      <td>(718) 920-4321</td>\n",
       "      <td>GENERAL ACUTE CARE</td>\n",
       "      <td>...</td>\n",
       "      <td>http://www.montefiore.org</td>\n",
       "      <td>7000006H</td>\n",
       "      <td>NOT AVAILABLE</td>\n",
       "      <td>36</td>\n",
       "      <td>NON-PROFIT</td>\n",
       "      <td>-999</td>\n",
       "      <td>779.0</td>\n",
       "      <td>NOT AVAILABLE</td>\n",
       "      <td>N</td>\n",
       "      <td>POINT (-73.87983 40.88008)</td>\n",
       "    </tr>\n",
       "    <tr>\n",
       "      <th>320</th>\n",
       "      <td>322</td>\n",
       "      <td>0015610467</td>\n",
       "      <td>NORTH CENTRAL BRONX HOSPITAL</td>\n",
       "      <td>3424 KOSSUTH AVE</td>\n",
       "      <td>BRONX</td>\n",
       "      <td>NY</td>\n",
       "      <td>10467</td>\n",
       "      <td>NOT AVAILABLE</td>\n",
       "      <td>(718) 519-5000</td>\n",
       "      <td>GENERAL ACUTE CARE</td>\n",
       "      <td>...</td>\n",
       "      <td>http://www.nyc.gov/html/hhc/ncbh/html/home/hom...</td>\n",
       "      <td>7000024H</td>\n",
       "      <td>NOT AVAILABLE</td>\n",
       "      <td>36</td>\n",
       "      <td>GOVERNMENT - LOCAL</td>\n",
       "      <td>-999</td>\n",
       "      <td>213.0</td>\n",
       "      <td>NOT AVAILABLE</td>\n",
       "      <td>N</td>\n",
       "      <td>POINT (-73.88106 40.88037)</td>\n",
       "    </tr>\n",
       "    <tr>\n",
       "      <th>322</th>\n",
       "      <td>324</td>\n",
       "      <td>0016111212</td>\n",
       "      <td>BROOKDALE HOSPITAL MEDICAL CENTER</td>\n",
       "      <td>1 BROOKDALE PLAZA</td>\n",
       "      <td>BROOKLYN</td>\n",
       "      <td>NY</td>\n",
       "      <td>11212</td>\n",
       "      <td>NOT AVAILABLE</td>\n",
       "      <td>(718) 240-5000</td>\n",
       "      <td>GENERAL ACUTE CARE</td>\n",
       "      <td>...</td>\n",
       "      <td>http://www.brookdalehospital.org</td>\n",
       "      <td>7001002H</td>\n",
       "      <td>NOT AVAILABLE</td>\n",
       "      <td>36</td>\n",
       "      <td>NON-PROFIT</td>\n",
       "      <td>-999</td>\n",
       "      <td>530.0</td>\n",
       "      <td>LEVEL II</td>\n",
       "      <td>N</td>\n",
       "      <td>POINT (-73.91256 40.65527)</td>\n",
       "    </tr>\n",
       "  </tbody>\n",
       "</table>\n",
       "<p>3 rows × 33 columns</p>\n",
       "</div>"
      ],
      "text/plain": [
       "     FID          ID                                        NAME  \\\n",
       "318  320  0015310466  MONTEFIORE MEDICAL CENTER - MOSES DIVISION   \n",
       "320  322  0015610467                NORTH CENTRAL BRONX HOSPITAL   \n",
       "322  324  0016111212           BROOKDALE HOSPITAL MEDICAL CENTER   \n",
       "\n",
       "               ADDRESS      CITY STATE    ZIP           ZIP4       TELEPHONE  \\\n",
       "318     111 E 210TH ST     BRONX    NY  10466  NOT AVAILABLE  (718) 920-4321   \n",
       "320   3424 KOSSUTH AVE     BRONX    NY  10467  NOT AVAILABLE  (718) 519-5000   \n",
       "322  1 BROOKDALE PLAZA  BROOKLYN    NY  11212  NOT AVAILABLE  (718) 240-5000   \n",
       "\n",
       "                   TYPE  ...  \\\n",
       "318  GENERAL ACUTE CARE  ...   \n",
       "320  GENERAL ACUTE CARE  ...   \n",
       "322  GENERAL ACUTE CARE  ...   \n",
       "\n",
       "                                               WEBSITE  STATE_ID  \\\n",
       "318                          http://www.montefiore.org  7000006H   \n",
       "320  http://www.nyc.gov/html/hhc/ncbh/html/home/hom...  7000024H   \n",
       "322                   http://www.brookdalehospital.org  7001002H   \n",
       "\n",
       "          ALT_NAME ST_FIPS               OWNER  TTL_STAFF   BEDS  \\\n",
       "318  NOT AVAILABLE      36          NON-PROFIT       -999  779.0   \n",
       "320  NOT AVAILABLE      36  GOVERNMENT - LOCAL       -999  213.0   \n",
       "322  NOT AVAILABLE      36          NON-PROFIT       -999  530.0   \n",
       "\n",
       "            TRAUMA HELIPAD                    geometry  \n",
       "318  NOT AVAILABLE       N  POINT (-73.87983 40.88008)  \n",
       "320  NOT AVAILABLE       N  POINT (-73.88106 40.88037)  \n",
       "322       LEVEL II       N  POINT (-73.91256 40.65527)  \n",
       "\n",
       "[3 rows x 33 columns]"
      ]
     },
     "execution_count": 12,
     "metadata": {},
     "output_type": "execute_result"
    }
   ],
   "source": [
    "nyc_hospitals.head(3)"
   ]
  },
  {
   "cell_type": "markdown",
   "metadata": {},
   "source": [
    "#### You've been supplied code to reclass -999 Missing Values to Null \n",
    "\n",
    "Run the code block below:"
   ]
  },
  {
   "cell_type": "code",
   "execution_count": 13,
   "metadata": {},
   "outputs": [
    {
     "name": "stderr",
     "output_type": "stream",
     "text": [
      "/Users/jessicaertel/anaconda3/lib/python3.7/site-packages/ipykernel_launcher.py:4: SettingWithCopyWarning: \n",
      "A value is trying to be set on a copy of a slice from a DataFrame.\n",
      "Try using .loc[row_indexer,col_indexer] = value instead\n",
      "\n",
      "See the caveats in the documentation: https://pandas.pydata.org/pandas-docs/stable/user_guide/indexing.html#returning-a-view-versus-a-copy\n",
      "  after removing the cwd from sys.path.\n"
     ]
    }
   ],
   "source": [
    "nyc_hospitals['BEDS'] = np.where(\n",
    "    nyc_hospitals['BEDS'] == -999,\n",
    "    np.nan,  \n",
    "    nyc_hospitals['BEDS']\n",
    ")  # run this code as-is, you may get a warning in pink, ignore. "
   ]
  },
  {
   "cell_type": "markdown",
   "metadata": {},
   "source": [
    "#### Plot the Distribution of NYC Hospital Beds in a Histogram Plot\n"
   ]
  },
  {
   "cell_type": "code",
   "execution_count": 18,
   "metadata": {},
   "outputs": [
    {
     "data": {
      "text/html": [
       "<div>\n",
       "<style scoped>\n",
       "    .dataframe tbody tr th:only-of-type {\n",
       "        vertical-align: middle;\n",
       "    }\n",
       "\n",
       "    .dataframe tbody tr th {\n",
       "        vertical-align: top;\n",
       "    }\n",
       "\n",
       "    .dataframe thead th {\n",
       "        text-align: right;\n",
       "    }\n",
       "</style>\n",
       "<table border=\"1\" class=\"dataframe\">\n",
       "  <thead>\n",
       "    <tr style=\"text-align: right;\">\n",
       "      <th></th>\n",
       "      <th>FID</th>\n",
       "      <th>POPULATION</th>\n",
       "      <th>LATITUDE</th>\n",
       "      <th>LONGITUDE</th>\n",
       "      <th>TTL_STAFF</th>\n",
       "      <th>BEDS</th>\n",
       "    </tr>\n",
       "  </thead>\n",
       "  <tbody>\n",
       "    <tr>\n",
       "      <th>count</th>\n",
       "      <td>79.000000</td>\n",
       "      <td>79.000000</td>\n",
       "      <td>79.000000</td>\n",
       "      <td>79.000000</td>\n",
       "      <td>79.0</td>\n",
       "      <td>71.000000</td>\n",
       "    </tr>\n",
       "    <tr>\n",
       "      <th>mean</th>\n",
       "      <td>3141.481013</td>\n",
       "      <td>56.645570</td>\n",
       "      <td>40.742550</td>\n",
       "      <td>-73.926752</td>\n",
       "      <td>-999.0</td>\n",
       "      <td>379.760563</td>\n",
       "    </tr>\n",
       "    <tr>\n",
       "      <th>std</th>\n",
       "      <td>2462.203635</td>\n",
       "      <td>656.692685</td>\n",
       "      <td>0.086834</td>\n",
       "      <td>0.089984</td>\n",
       "      <td>0.0</td>\n",
       "      <td>249.041159</td>\n",
       "    </tr>\n",
       "    <tr>\n",
       "      <th>min</th>\n",
       "      <td>320.000000</td>\n",
       "      <td>-999.000000</td>\n",
       "      <td>40.516569</td>\n",
       "      <td>-74.196466</td>\n",
       "      <td>-999.0</td>\n",
       "      <td>21.000000</td>\n",
       "    </tr>\n",
       "    <tr>\n",
       "      <th>25%</th>\n",
       "      <td>354.000000</td>\n",
       "      <td>-487.000000</td>\n",
       "      <td>40.684053</td>\n",
       "      <td>-73.976231</td>\n",
       "      <td>-999.0</td>\n",
       "      <td>209.500000</td>\n",
       "    </tr>\n",
       "    <tr>\n",
       "      <th>50%</th>\n",
       "      <td>2907.000000</td>\n",
       "      <td>241.000000</td>\n",
       "      <td>40.746772</td>\n",
       "      <td>-73.941624</td>\n",
       "      <td>-999.0</td>\n",
       "      <td>324.000000</td>\n",
       "    </tr>\n",
       "    <tr>\n",
       "      <th>75%</th>\n",
       "      <td>5076.000000</td>\n",
       "      <td>462.500000</td>\n",
       "      <td>40.809594</td>\n",
       "      <td>-73.880442</td>\n",
       "      <td>-999.0</td>\n",
       "      <td>501.500000</td>\n",
       "    </tr>\n",
       "    <tr>\n",
       "      <th>max</th>\n",
       "      <td>7604.000000</td>\n",
       "      <td>1144.000000</td>\n",
       "      <td>40.893697</td>\n",
       "      <td>-73.708106</td>\n",
       "      <td>-999.0</td>\n",
       "      <td>1144.000000</td>\n",
       "    </tr>\n",
       "  </tbody>\n",
       "</table>\n",
       "</div>"
      ],
      "text/plain": [
       "               FID   POPULATION   LATITUDE  LONGITUDE  TTL_STAFF         BEDS\n",
       "count    79.000000    79.000000  79.000000  79.000000       79.0    71.000000\n",
       "mean   3141.481013    56.645570  40.742550 -73.926752     -999.0   379.760563\n",
       "std    2462.203635   656.692685   0.086834   0.089984        0.0   249.041159\n",
       "min     320.000000  -999.000000  40.516569 -74.196466     -999.0    21.000000\n",
       "25%     354.000000  -487.000000  40.684053 -73.976231     -999.0   209.500000\n",
       "50%    2907.000000   241.000000  40.746772 -73.941624     -999.0   324.000000\n",
       "75%    5076.000000   462.500000  40.809594 -73.880442     -999.0   501.500000\n",
       "max    7604.000000  1144.000000  40.893697 -73.708106     -999.0  1144.000000"
      ]
     },
     "execution_count": 18,
     "metadata": {},
     "output_type": "execute_result"
    }
   ],
   "source": [
    "nyc_hospitals.describe()"
   ]
  },
  {
   "cell_type": "code",
   "execution_count": 17,
   "metadata": {},
   "outputs": [
    {
     "data": {
      "image/png": "[encoded data removed]",
      "text/plain": [
       "<Figure size 720x576 with 1 Axes>"
      ]
     },
     "metadata": {},
     "output_type": "display_data"
    }
   ],
   "source": [
    "plt.figure(figsize=(10, 8))\n",
    "# leave the above code as-is, this sets the size of your figure. \n",
    "\n",
    "\n",
    "\n",
    "plt.hist(nyc_hospitals['BEDS'])\n",
    "\n",
    "\n",
    "# leave this code here, this adds a title to your plot:\n",
    "plt.title('NYC Hospital Bed Count Distribution');"
   ]
  },
  {
   "cell_type": "markdown",
   "metadata": {},
   "source": [
    "#### Do a quick GeoDataFrame Map  `.plot()` to see our the spatial distribution of our data\n",
    "\n",
    "For this, please **add argument** `figsize=(10, 10)` inside our `.plot( )` function. "
   ]
  },
  {
   "cell_type": "code",
   "execution_count": 19,
   "metadata": {},
   "outputs": [
    {
     "data": {
      "image/png": "[encoded data removed]",
      "text/plain": [
       "<Figure size 720x720 with 1 Axes>"
      ]
     },
     "metadata": {},
     "output_type": "display_data"
    }
   ],
   "source": [
    "# enter your code below, plot a GeoDataFrame Map, pass figsize=(10, 10) argument\n",
    "# enter your code below, plot a GeoDataFrame Map, pass figsize=(10, 10) argument\n",
    "# enter your code below, plot a GeoDataFrame Map, pass figsize=(10, 10 argument\n",
    "\n",
    "\n",
    "nyc_hospitals.plot(figsize=(10, 10))\n",
    "\n",
    "# leave this code here, this adds a title to your plot:\n",
    "plt.title('NYC Hospitals');"
   ]
  },
  {
   "cell_type": "markdown",
   "metadata": {},
   "source": [
    "#### We'll use our `boro_data` Dictionary from Assignment 01 \n",
    "Run the code block below to define the dictionary `boro_data`. "
   ]
  },
  {
   "cell_type": "code",
   "execution_count": 20,
   "metadata": {},
   "outputs": [],
   "source": [
    "boro_data = {\n",
    "    \"Manhattan\": {\n",
    "        \"COUNTYFIPS\": '36061',\n",
    "        \"boro_code\": '1',\n",
    "        \"boro_population\": 1_628_701,\n",
    "        \"boro_name\": \"Manhattan\",\n",
    "    },\n",
    "    \"Bronx\": {\n",
    "        \"COUNTYFIPS\": '36005',\n",
    "        \"boro_code\": '2',\n",
    "        \"boro_population\": 1_432_132,\n",
    "        \"boro_name\": \"Bronx\",\n",
    "    },\n",
    "    \"Brooklyn\": {\n",
    "        \"COUNTYFIPS\": '36047',\n",
    "        \"boro_code\": '3',\n",
    "        \"boro_population\": 2_582_830,\n",
    "        \"boro_name\": \"Brooklyn\",\n",
    "    },\n",
    "    \"Queens\": {\n",
    "        \"COUNTYFIPS\": '36081',\n",
    "        \"boro_code\": '4',\n",
    "        \"boro_population\": 2_278_906,\n",
    "        \"boro_name\": \"Queens\",\n",
    "    },\n",
    "    \"Staten Island\": {\n",
    "        \"COUNTYFIPS\": '36085',\n",
    "        \"boro_code\": '5',\n",
    "        \"boro_population\": 476_179,\n",
    "        \"boro_name\": \"Staten Island\",\n",
    "    },\n",
    "}"
   ]
  },
  {
   "cell_type": "code",
   "execution_count": 26,
   "metadata": {},
   "outputs": [],
   "source": [
    "boro_df = pd.DataFrame(boro_data).T\n",
    "# run this block of code as-is to convert the Dictionary to a DataFrame\n",
    "# note the .T (transpose function), maybe try running with .T commented out\n",
    "# to see the difference, for the boro_df, we need to keep the .T code"
   ]
  },
  {
   "cell_type": "markdown",
   "metadata": {},
   "source": [
    "#### Let's check out `boro_df`"
   ]
  },
  {
   "cell_type": "code",
   "execution_count": 27,
   "metadata": {},
   "outputs": [
    {
     "data": {
      "text/html": [
       "<div>\n",
       "<style scoped>\n",
       "    .dataframe tbody tr th:only-of-type {\n",
       "        vertical-align: middle;\n",
       "    }\n",
       "\n",
       "    .dataframe tbody tr th {\n",
       "        vertical-align: top;\n",
       "    }\n",
       "\n",
       "    .dataframe thead th {\n",
       "        text-align: right;\n",
       "    }\n",
       "</style>\n",
       "<table border=\"1\" class=\"dataframe\">\n",
       "  <thead>\n",
       "    <tr style=\"text-align: right;\">\n",
       "      <th></th>\n",
       "      <th>COUNTYFIPS</th>\n",
       "      <th>boro_code</th>\n",
       "      <th>boro_population</th>\n",
       "      <th>boro_name</th>\n",
       "    </tr>\n",
       "  </thead>\n",
       "  <tbody>\n",
       "    <tr>\n",
       "      <th>Manhattan</th>\n",
       "      <td>36061</td>\n",
       "      <td>1</td>\n",
       "      <td>1628701</td>\n",
       "      <td>Manhattan</td>\n",
       "    </tr>\n",
       "    <tr>\n",
       "      <th>Bronx</th>\n",
       "      <td>36005</td>\n",
       "      <td>2</td>\n",
       "      <td>1432132</td>\n",
       "      <td>Bronx</td>\n",
       "    </tr>\n",
       "    <tr>\n",
       "      <th>Brooklyn</th>\n",
       "      <td>36047</td>\n",
       "      <td>3</td>\n",
       "      <td>2582830</td>\n",
       "      <td>Brooklyn</td>\n",
       "    </tr>\n",
       "    <tr>\n",
       "      <th>Queens</th>\n",
       "      <td>36081</td>\n",
       "      <td>4</td>\n",
       "      <td>2278906</td>\n",
       "      <td>Queens</td>\n",
       "    </tr>\n",
       "    <tr>\n",
       "      <th>Staten Island</th>\n",
       "      <td>36085</td>\n",
       "      <td>5</td>\n",
       "      <td>476179</td>\n",
       "      <td>Staten Island</td>\n",
       "    </tr>\n",
       "  </tbody>\n",
       "</table>\n",
       "</div>"
      ],
      "text/plain": [
       "              COUNTYFIPS boro_code boro_population      boro_name\n",
       "Manhattan          36061         1         1628701      Manhattan\n",
       "Bronx              36005         2         1432132          Bronx\n",
       "Brooklyn           36047         3         2582830       Brooklyn\n",
       "Queens             36081         4         2278906         Queens\n",
       "Staten Island      36085         5          476179  Staten Island"
      ]
     },
     "execution_count": 27,
     "metadata": {},
     "output_type": "execute_result"
    }
   ],
   "source": [
    "boro_df"
   ]
  },
  {
   "cell_type": "markdown",
   "metadata": {},
   "source": [
    "#### Run a `.merge()` to add the `boro_df` data to the `nyc_hospitals` GeoDataFrame"
   ]
  },
  {
   "cell_type": "code",
   "execution_count": 28,
   "metadata": {},
   "outputs": [],
   "source": [
    "df = pd.merge(\n",
    "    left=nyc_hospitals,   # our hospitals geodataframe\n",
    "    right=boro_df,  # our boro dictionary dataframe variable name\n",
    "    on='COUNTYFIPS',  # the common field to merge/join these tables. \n",
    "    how='left',  # left-join, leave this line of code as-is\n",
    "    # enter your code above, \n",
    "    # enter your code above, \n",
    "    # enter your code above, \n",
    ")  "
   ]
  },
  {
   "cell_type": "code",
   "execution_count": 29,
   "metadata": {},
   "outputs": [],
   "source": [
    "df  = df[[\n",
    "    'geometry',\n",
    "    'COUNTYFIPS',\n",
    "    'boro_code',\n",
    "    'boro_name',\n",
    "    'BEDS',\n",
    "    'boro_population',\n",
    "]]  # run this block of code "
   ]
  },
  {
   "cell_type": "markdown",
   "metadata": {},
   "source": [
    "#### Display the first 10 rows of the GeoDataFrame `.head(... hint, n=)`"
   ]
  },
  {
   "cell_type": "code",
   "execution_count": 30,
   "metadata": {},
   "outputs": [
    {
     "data": {
      "text/html": [
       "<div>\n",
       "<style scoped>\n",
       "    .dataframe tbody tr th:only-of-type {\n",
       "        vertical-align: middle;\n",
       "    }\n",
       "\n",
       "    .dataframe tbody tr th {\n",
       "        vertical-align: top;\n",
       "    }\n",
       "\n",
       "    .dataframe thead th {\n",
       "        text-align: right;\n",
       "    }\n",
       "</style>\n",
       "<table border=\"1\" class=\"dataframe\">\n",
       "  <thead>\n",
       "    <tr style=\"text-align: right;\">\n",
       "      <th></th>\n",
       "      <th>geometry</th>\n",
       "      <th>COUNTYFIPS</th>\n",
       "      <th>boro_code</th>\n",
       "      <th>boro_name</th>\n",
       "      <th>BEDS</th>\n",
       "      <th>boro_population</th>\n",
       "    </tr>\n",
       "  </thead>\n",
       "  <tbody>\n",
       "    <tr>\n",
       "      <th>0</th>\n",
       "      <td>POINT (-73.87983 40.88008)</td>\n",
       "      <td>36005</td>\n",
       "      <td>2</td>\n",
       "      <td>Bronx</td>\n",
       "      <td>779.0</td>\n",
       "      <td>1432132</td>\n",
       "    </tr>\n",
       "    <tr>\n",
       "      <th>1</th>\n",
       "      <td>POINT (-73.88106 40.88037)</td>\n",
       "      <td>36005</td>\n",
       "      <td>2</td>\n",
       "      <td>Bronx</td>\n",
       "      <td>213.0</td>\n",
       "      <td>1432132</td>\n",
       "    </tr>\n",
       "    <tr>\n",
       "      <th>2</th>\n",
       "      <td>POINT (-73.91256 40.65527)</td>\n",
       "      <td>36047</td>\n",
       "      <td>3</td>\n",
       "      <td>Brooklyn</td>\n",
       "      <td>530.0</td>\n",
       "      <td>2582830</td>\n",
       "    </tr>\n",
       "    <tr>\n",
       "      <th>3</th>\n",
       "      <td>POINT (-73.97788 40.69057)</td>\n",
       "      <td>36047</td>\n",
       "      <td>3</td>\n",
       "      <td>Brooklyn</td>\n",
       "      <td>464.0</td>\n",
       "      <td>2582830</td>\n",
       "    </tr>\n",
       "    <tr>\n",
       "      <th>4</th>\n",
       "      <td>POINT (-73.84852 40.84074)</td>\n",
       "      <td>36005</td>\n",
       "      <td>2</td>\n",
       "      <td>Bronx</td>\n",
       "      <td>NaN</td>\n",
       "      <td>1432132</td>\n",
       "    </tr>\n",
       "    <tr>\n",
       "      <th>5</th>\n",
       "      <td>POINT (-73.94469 40.65662)</td>\n",
       "      <td>36047</td>\n",
       "      <td>3</td>\n",
       "      <td>Brooklyn</td>\n",
       "      <td>639.0</td>\n",
       "      <td>2582830</td>\n",
       "    </tr>\n",
       "    <tr>\n",
       "      <th>6</th>\n",
       "      <td>POINT (-73.96533 40.58541)</td>\n",
       "      <td>36047</td>\n",
       "      <td>3</td>\n",
       "      <td>Brooklyn</td>\n",
       "      <td>371.0</td>\n",
       "      <td>2582830</td>\n",
       "    </tr>\n",
       "    <tr>\n",
       "      <th>7</th>\n",
       "      <td>POINT (-74.02091 40.64656)</td>\n",
       "      <td>36047</td>\n",
       "      <td>3</td>\n",
       "      <td>Brooklyn</td>\n",
       "      <td>396.0</td>\n",
       "      <td>2582830</td>\n",
       "    </tr>\n",
       "    <tr>\n",
       "      <th>8</th>\n",
       "      <td>POINT (-73.84751 40.85630)</td>\n",
       "      <td>36005</td>\n",
       "      <td>2</td>\n",
       "      <td>Bronx</td>\n",
       "      <td>457.0</td>\n",
       "      <td>1432132</td>\n",
       "    </tr>\n",
       "    <tr>\n",
       "      <th>9</th>\n",
       "      <td>POINT (-73.97899 40.66776)</td>\n",
       "      <td>36047</td>\n",
       "      <td>3</td>\n",
       "      <td>Brooklyn</td>\n",
       "      <td>591.0</td>\n",
       "      <td>2582830</td>\n",
       "    </tr>\n",
       "  </tbody>\n",
       "</table>\n",
       "</div>"
      ],
      "text/plain": [
       "                     geometry COUNTYFIPS boro_code boro_name   BEDS  \\\n",
       "0  POINT (-73.87983 40.88008)      36005         2     Bronx  779.0   \n",
       "1  POINT (-73.88106 40.88037)      36005         2     Bronx  213.0   \n",
       "2  POINT (-73.91256 40.65527)      36047         3  Brooklyn  530.0   \n",
       "3  POINT (-73.97788 40.69057)      36047         3  Brooklyn  464.0   \n",
       "4  POINT (-73.84852 40.84074)      36005         2     Bronx    NaN   \n",
       "5  POINT (-73.94469 40.65662)      36047         3  Brooklyn  639.0   \n",
       "6  POINT (-73.96533 40.58541)      36047         3  Brooklyn  371.0   \n",
       "7  POINT (-74.02091 40.64656)      36047         3  Brooklyn  396.0   \n",
       "8  POINT (-73.84751 40.85630)      36005         2     Bronx  457.0   \n",
       "9  POINT (-73.97899 40.66776)      36047         3  Brooklyn  591.0   \n",
       "\n",
       "  boro_population  \n",
       "0         1432132  \n",
       "1         1432132  \n",
       "2         2582830  \n",
       "3         2582830  \n",
       "4         1432132  \n",
       "5         2582830  \n",
       "6         2582830  \n",
       "7         2582830  \n",
       "8         1432132  \n",
       "9         2582830  "
      ]
     },
     "execution_count": 30,
     "metadata": {},
     "output_type": "execute_result"
    }
   ],
   "source": [
    "df.head(10)"
   ]
  },
  {
   "cell_type": "markdown",
   "metadata": {},
   "source": [
    "#### Groupby and Sum the BEDS variable\n",
    "\n",
    "Groupby: \n",
    "* boro_name\n",
    "* COUNTYFIPS\t\n",
    "* boro_code\t\n",
    "* boro_population"
   ]
  },
  {
   "cell_type": "code",
   "execution_count": 39,
   "metadata": {},
   "outputs": [
    {
     "data": {
      "text/html": [
       "<div>\n",
       "<style scoped>\n",
       "    .dataframe tbody tr th:only-of-type {\n",
       "        vertical-align: middle;\n",
       "    }\n",
       "\n",
       "    .dataframe tbody tr th {\n",
       "        vertical-align: top;\n",
       "    }\n",
       "\n",
       "    .dataframe thead th {\n",
       "        text-align: right;\n",
       "    }\n",
       "</style>\n",
       "<table border=\"1\" class=\"dataframe\">\n",
       "  <thead>\n",
       "    <tr style=\"text-align: right;\">\n",
       "      <th></th>\n",
       "      <th>boro_name</th>\n",
       "      <th>COUNTYFIPS</th>\n",
       "      <th>boro_code</th>\n",
       "      <th>boro_population</th>\n",
       "      <th>BEDS</th>\n",
       "    </tr>\n",
       "  </thead>\n",
       "  <tbody>\n",
       "    <tr>\n",
       "      <th>0</th>\n",
       "      <td>Bronx</td>\n",
       "      <td>36005</td>\n",
       "      <td>2</td>\n",
       "      <td>1432132</td>\n",
       "      <td>4289.0</td>\n",
       "    </tr>\n",
       "    <tr>\n",
       "      <th>1</th>\n",
       "      <td>Brooklyn</td>\n",
       "      <td>36047</td>\n",
       "      <td>3</td>\n",
       "      <td>2582830</td>\n",
       "      <td>5994.0</td>\n",
       "    </tr>\n",
       "    <tr>\n",
       "      <th>2</th>\n",
       "      <td>Manhattan</td>\n",
       "      <td>36061</td>\n",
       "      <td>1</td>\n",
       "      <td>1628701</td>\n",
       "      <td>10500.0</td>\n",
       "    </tr>\n",
       "    <tr>\n",
       "      <th>3</th>\n",
       "      <td>Queens</td>\n",
       "      <td>36081</td>\n",
       "      <td>4</td>\n",
       "      <td>2278906</td>\n",
       "      <td>4736.0</td>\n",
       "    </tr>\n",
       "    <tr>\n",
       "      <th>4</th>\n",
       "      <td>Staten Island</td>\n",
       "      <td>36085</td>\n",
       "      <td>5</td>\n",
       "      <td>476179</td>\n",
       "      <td>1444.0</td>\n",
       "    </tr>\n",
       "  </tbody>\n",
       "</table>\n",
       "</div>"
      ],
      "text/plain": [
       "       boro_name COUNTYFIPS boro_code  boro_population     BEDS\n",
       "0          Bronx      36005         2          1432132   4289.0\n",
       "1       Brooklyn      36047         3          2582830   5994.0\n",
       "2      Manhattan      36061         1          1628701  10500.0\n",
       "3         Queens      36081         4          2278906   4736.0\n",
       "4  Staten Island      36085         5           476179   1444.0"
      ]
     },
     "execution_count": 39,
     "metadata": {},
     "output_type": "execute_result"
    }
   ],
   "source": [
    "group_df = df.groupby(by=['boro_name', 'COUNTYFIPS', 'boro_code', 'boro_population'],\n",
    "                     as_index=False)[['BEDS']].sum()"
   ]
  },
  {
   "cell_type": "markdown",
   "metadata": {},
   "source": [
    "#### Display the `.head()` of `grouped`"
   ]
  },
  {
   "cell_type": "code",
   "execution_count": 40,
   "metadata": {},
   "outputs": [
    {
     "data": {
      "text/html": [
       "<div>\n",
       "<style scoped>\n",
       "    .dataframe tbody tr th:only-of-type {\n",
       "        vertical-align: middle;\n",
       "    }\n",
       "\n",
       "    .dataframe tbody tr th {\n",
       "        vertical-align: top;\n",
       "    }\n",
       "\n",
       "    .dataframe thead th {\n",
       "        text-align: right;\n",
       "    }\n",
       "</style>\n",
       "<table border=\"1\" class=\"dataframe\">\n",
       "  <thead>\n",
       "    <tr style=\"text-align: right;\">\n",
       "      <th></th>\n",
       "      <th>boro_name</th>\n",
       "      <th>COUNTYFIPS</th>\n",
       "      <th>boro_code</th>\n",
       "      <th>boro_population</th>\n",
       "      <th>BEDS</th>\n",
       "    </tr>\n",
       "  </thead>\n",
       "  <tbody>\n",
       "    <tr>\n",
       "      <th>0</th>\n",
       "      <td>Bronx</td>\n",
       "      <td>36005</td>\n",
       "      <td>2</td>\n",
       "      <td>1432132</td>\n",
       "      <td>4289.0</td>\n",
       "    </tr>\n",
       "    <tr>\n",
       "      <th>1</th>\n",
       "      <td>Brooklyn</td>\n",
       "      <td>36047</td>\n",
       "      <td>3</td>\n",
       "      <td>2582830</td>\n",
       "      <td>5994.0</td>\n",
       "    </tr>\n",
       "    <tr>\n",
       "      <th>2</th>\n",
       "      <td>Manhattan</td>\n",
       "      <td>36061</td>\n",
       "      <td>1</td>\n",
       "      <td>1628701</td>\n",
       "      <td>10500.0</td>\n",
       "    </tr>\n",
       "    <tr>\n",
       "      <th>3</th>\n",
       "      <td>Queens</td>\n",
       "      <td>36081</td>\n",
       "      <td>4</td>\n",
       "      <td>2278906</td>\n",
       "      <td>4736.0</td>\n",
       "    </tr>\n",
       "    <tr>\n",
       "      <th>4</th>\n",
       "      <td>Staten Island</td>\n",
       "      <td>36085</td>\n",
       "      <td>5</td>\n",
       "      <td>476179</td>\n",
       "      <td>1444.0</td>\n",
       "    </tr>\n",
       "  </tbody>\n",
       "</table>\n",
       "</div>"
      ],
      "text/plain": [
       "       boro_name COUNTYFIPS boro_code  boro_population     BEDS\n",
       "0          Bronx      36005         2          1432132   4289.0\n",
       "1       Brooklyn      36047         3          2582830   5994.0\n",
       "2      Manhattan      36061         1          1628701  10500.0\n",
       "3         Queens      36081         4          2278906   4736.0\n",
       "4  Staten Island      36085         5           476179   1444.0"
      ]
     },
     "execution_count": 40,
     "metadata": {},
     "output_type": "execute_result"
    }
   ],
   "source": [
    "group_df"
   ]
  },
  {
   "cell_type": "markdown",
   "metadata": {},
   "source": [
    "#### Create a new column called `boro_pop_per_hosp_bed`. \n",
    "\n",
    "Remember from Lesson 04 where we generate the `df['BEDS_newcol'] = ` code. \n",
    "\n",
    "#### This column will be the Calculation of Population / Beds  ( / meaning divided by)"
   ]
  },
  {
   "cell_type": "code",
   "execution_count": 41,
   "metadata": {},
   "outputs": [],
   "source": [
    "group_df['boro_pop_per_hosp_bed'] = group_df['boro_population'] / group_df['BEDS']"
   ]
  },
  {
   "cell_type": "markdown",
   "metadata": {},
   "source": [
    "#### Display the `.head()` of `grouped` DataFrame to check our results"
   ]
  },
  {
   "cell_type": "code",
   "execution_count": 42,
   "metadata": {},
   "outputs": [
    {
     "data": {
      "text/html": [
       "<div>\n",
       "<style scoped>\n",
       "    .dataframe tbody tr th:only-of-type {\n",
       "        vertical-align: middle;\n",
       "    }\n",
       "\n",
       "    .dataframe tbody tr th {\n",
       "        vertical-align: top;\n",
       "    }\n",
       "\n",
       "    .dataframe thead th {\n",
       "        text-align: right;\n",
       "    }\n",
       "</style>\n",
       "<table border=\"1\" class=\"dataframe\">\n",
       "  <thead>\n",
       "    <tr style=\"text-align: right;\">\n",
       "      <th></th>\n",
       "      <th>boro_name</th>\n",
       "      <th>COUNTYFIPS</th>\n",
       "      <th>boro_code</th>\n",
       "      <th>boro_population</th>\n",
       "      <th>BEDS</th>\n",
       "      <th>boro_pop_per_hosp_bed</th>\n",
       "    </tr>\n",
       "  </thead>\n",
       "  <tbody>\n",
       "    <tr>\n",
       "      <th>0</th>\n",
       "      <td>Bronx</td>\n",
       "      <td>36005</td>\n",
       "      <td>2</td>\n",
       "      <td>1432132</td>\n",
       "      <td>4289.0</td>\n",
       "      <td>333.908137</td>\n",
       "    </tr>\n",
       "    <tr>\n",
       "      <th>1</th>\n",
       "      <td>Brooklyn</td>\n",
       "      <td>36047</td>\n",
       "      <td>3</td>\n",
       "      <td>2582830</td>\n",
       "      <td>5994.0</td>\n",
       "      <td>430.902569</td>\n",
       "    </tr>\n",
       "    <tr>\n",
       "      <th>2</th>\n",
       "      <td>Manhattan</td>\n",
       "      <td>36061</td>\n",
       "      <td>1</td>\n",
       "      <td>1628701</td>\n",
       "      <td>10500.0</td>\n",
       "      <td>155.114381</td>\n",
       "    </tr>\n",
       "    <tr>\n",
       "      <th>3</th>\n",
       "      <td>Queens</td>\n",
       "      <td>36081</td>\n",
       "      <td>4</td>\n",
       "      <td>2278906</td>\n",
       "      <td>4736.0</td>\n",
       "      <td>481.187922</td>\n",
       "    </tr>\n",
       "    <tr>\n",
       "      <th>4</th>\n",
       "      <td>Staten Island</td>\n",
       "      <td>36085</td>\n",
       "      <td>5</td>\n",
       "      <td>476179</td>\n",
       "      <td>1444.0</td>\n",
       "      <td>329.763850</td>\n",
       "    </tr>\n",
       "  </tbody>\n",
       "</table>\n",
       "</div>"
      ],
      "text/plain": [
       "       boro_name COUNTYFIPS boro_code  boro_population     BEDS  \\\n",
       "0          Bronx      36005         2          1432132   4289.0   \n",
       "1       Brooklyn      36047         3          2582830   5994.0   \n",
       "2      Manhattan      36061         1          1628701  10500.0   \n",
       "3         Queens      36081         4          2278906   4736.0   \n",
       "4  Staten Island      36085         5           476179   1444.0   \n",
       "\n",
       "   boro_pop_per_hosp_bed  \n",
       "0             333.908137  \n",
       "1             430.902569  \n",
       "2             155.114381  \n",
       "3             481.187922  \n",
       "4             329.763850  "
      ]
     },
     "execution_count": 42,
     "metadata": {},
     "output_type": "execute_result"
    }
   ],
   "source": [
    "group_df"
   ]
  },
  {
   "cell_type": "markdown",
   "metadata": {},
   "source": [
    "#### Plot a bar chart showing Borough Population per Hospital Bed"
   ]
  },
  {
   "cell_type": "code",
   "execution_count": 44,
   "metadata": {},
   "outputs": [
    {
     "data": {
      "image/png": "[encoded data removed]",
      "text/plain": [
       "<Figure size 720x576 with 1 Axes>"
      ]
     },
     "metadata": {},
     "output_type": "display_data"
    }
   ],
   "source": [
    "plt.figure(figsize=(10, 8))\n",
    "\n",
    "plt.bar(\n",
    "    group_df['boro_name'],\n",
    "    group_df['boro_pop_per_hosp_bed']);\n",
    "\n",
    "\n",
    "\n",
    "plt.title('Borough Population per Hospital Bed');"
   ]
  },
  {
   "cell_type": "markdown",
   "metadata": {},
   "source": [
    "# Map our Final Results"
   ]
  },
  {
   "cell_type": "code",
   "execution_count": 45,
   "metadata": {},
   "outputs": [],
   "source": [
    "boro_geojson_link = 'https://data.cityofnewyork.us/api/geospatial/tqmj-j8zm?method=export&format=GeoJSON'"
   ]
  },
  {
   "cell_type": "markdown",
   "metadata": {},
   "source": [
    "#### Read in `boro_geojso_link` as GeoDataFrame called `boro`"
   ]
  },
  {
   "cell_type": "code",
   "execution_count": 46,
   "metadata": {},
   "outputs": [],
   "source": [
    "boro = gpd.read_file(boro_geojson_link )"
   ]
  },
  {
   "cell_type": "code",
   "execution_count": 48,
   "metadata": {},
   "outputs": [
    {
     "data": {
      "image/png": "[encoded data removed]",
      "text/plain": [
       "<Figure size 432x288 with 1 Axes>"
      ]
     },
     "metadata": {},
     "output_type": "display_data"
    }
   ],
   "source": [
    "boro.plot();\n",
    "# run this code as-is"
   ]
  },
  {
   "cell_type": "markdown",
   "metadata": {},
   "source": [
    "#### Merge `boro` to `grouped` on `boro_code` with a 'left' as `how=`"
   ]
  },
  {
   "cell_type": "code",
   "execution_count": 49,
   "metadata": {},
   "outputs": [],
   "source": [
    "boro_joined = pd.merge(\n",
    "    left=boro,      # our `boro` geodataframe\n",
    "    right=group_df,  # our `grouped` bed count sums\n",
    "    on='boro_code', # the common id to join grouped to boro\n",
    "    how='left',     # join on 'left'\n",
    ")"
   ]
  },
  {
   "cell_type": "code",
   "execution_count": 50,
   "metadata": {},
   "outputs": [
    {
     "data": {
      "text/html": [
       "<div>\n",
       "<style scoped>\n",
       "    .dataframe tbody tr th:only-of-type {\n",
       "        vertical-align: middle;\n",
       "    }\n",
       "\n",
       "    .dataframe tbody tr th {\n",
       "        vertical-align: top;\n",
       "    }\n",
       "\n",
       "    .dataframe thead th {\n",
       "        text-align: right;\n",
       "    }\n",
       "</style>\n",
       "<table border=\"1\" class=\"dataframe\">\n",
       "  <thead>\n",
       "    <tr style=\"text-align: right;\">\n",
       "      <th></th>\n",
       "      <th>boro_code</th>\n",
       "      <th>boro_name_x</th>\n",
       "      <th>shape_area</th>\n",
       "      <th>shape_leng</th>\n",
       "      <th>geometry</th>\n",
       "      <th>boro_name_y</th>\n",
       "      <th>COUNTYFIPS</th>\n",
       "      <th>boro_population</th>\n",
       "      <th>BEDS</th>\n",
       "      <th>boro_pop_per_hosp_bed</th>\n",
       "    </tr>\n",
       "  </thead>\n",
       "  <tbody>\n",
       "    <tr>\n",
       "      <th>0</th>\n",
       "      <td>2</td>\n",
       "      <td>Bronx</td>\n",
       "      <td>1186612478.34</td>\n",
       "      <td>462958.187537</td>\n",
       "      <td>MULTIPOLYGON (((-73.89681 40.79581, -73.89694 ...</td>\n",
       "      <td>Bronx</td>\n",
       "      <td>36005</td>\n",
       "      <td>1432132</td>\n",
       "      <td>4289.0</td>\n",
       "      <td>333.908137</td>\n",
       "    </tr>\n",
       "    <tr>\n",
       "      <th>1</th>\n",
       "      <td>5</td>\n",
       "      <td>Staten Island</td>\n",
       "      <td>1623757282.78</td>\n",
       "      <td>325956.009</td>\n",
       "      <td>MULTIPOLYGON (((-74.05051 40.56642, -74.05047 ...</td>\n",
       "      <td>Staten Island</td>\n",
       "      <td>36085</td>\n",
       "      <td>476179</td>\n",
       "      <td>1444.0</td>\n",
       "      <td>329.763850</td>\n",
       "    </tr>\n",
       "    <tr>\n",
       "      <th>2</th>\n",
       "      <td>1</td>\n",
       "      <td>Manhattan</td>\n",
       "      <td>636602658.568</td>\n",
       "      <td>361212.476363</td>\n",
       "      <td>MULTIPOLYGON (((-74.01093 40.68449, -74.01193 ...</td>\n",
       "      <td>Manhattan</td>\n",
       "      <td>36061</td>\n",
       "      <td>1628701</td>\n",
       "      <td>10500.0</td>\n",
       "      <td>155.114381</td>\n",
       "    </tr>\n",
       "    <tr>\n",
       "      <th>3</th>\n",
       "      <td>3</td>\n",
       "      <td>Brooklyn</td>\n",
       "      <td>1937593020.61</td>\n",
       "      <td>738745.842046</td>\n",
       "      <td>MULTIPOLYGON (((-73.86706 40.58209, -73.86769 ...</td>\n",
       "      <td>Brooklyn</td>\n",
       "      <td>36047</td>\n",
       "      <td>2582830</td>\n",
       "      <td>5994.0</td>\n",
       "      <td>430.902569</td>\n",
       "    </tr>\n",
       "    <tr>\n",
       "      <th>4</th>\n",
       "      <td>4</td>\n",
       "      <td>Queens</td>\n",
       "      <td>3045878171.58</td>\n",
       "      <td>904191.43261</td>\n",
       "      <td>MULTIPOLYGON (((-73.83668 40.59495, -73.83678 ...</td>\n",
       "      <td>Queens</td>\n",
       "      <td>36081</td>\n",
       "      <td>2278906</td>\n",
       "      <td>4736.0</td>\n",
       "      <td>481.187922</td>\n",
       "    </tr>\n",
       "  </tbody>\n",
       "</table>\n",
       "</div>"
      ],
      "text/plain": [
       "  boro_code    boro_name_x     shape_area     shape_leng  \\\n",
       "0         2          Bronx  1186612478.34  462958.187537   \n",
       "1         5  Staten Island  1623757282.78     325956.009   \n",
       "2         1      Manhattan  636602658.568  361212.476363   \n",
       "3         3       Brooklyn  1937593020.61  738745.842046   \n",
       "4         4         Queens  3045878171.58   904191.43261   \n",
       "\n",
       "                                            geometry    boro_name_y  \\\n",
       "0  MULTIPOLYGON (((-73.89681 40.79581, -73.89694 ...          Bronx   \n",
       "1  MULTIPOLYGON (((-74.05051 40.56642, -74.05047 ...  Staten Island   \n",
       "2  MULTIPOLYGON (((-74.01093 40.68449, -74.01193 ...      Manhattan   \n",
       "3  MULTIPOLYGON (((-73.86706 40.58209, -73.86769 ...       Brooklyn   \n",
       "4  MULTIPOLYGON (((-73.83668 40.59495, -73.83678 ...         Queens   \n",
       "\n",
       "  COUNTYFIPS  boro_population     BEDS  boro_pop_per_hosp_bed  \n",
       "0      36005          1432132   4289.0             333.908137  \n",
       "1      36085           476179   1444.0             329.763850  \n",
       "2      36061          1628701  10500.0             155.114381  \n",
       "3      36047          2582830   5994.0             430.902569  \n",
       "4      36081          2278906   4736.0             481.187922  "
      ]
     },
     "execution_count": 50,
     "metadata": {},
     "output_type": "execute_result"
    }
   ],
   "source": [
    "boro_joined\n",
    "# run cell as is"
   ]
  },
  {
   "cell_type": "code",
   "execution_count": 52,
   "metadata": {},
   "outputs": [
    {
     "data": {
      "image/png": "[encoded data removed]",
      "text/plain": [
       "<Figure size 864x864 with 1 Axes>"
      ]
     },
     "metadata": {},
     "output_type": "display_data"
    }
   ],
   "source": [
    "# # run cell as-is\n",
    "# # run cell as-is\n",
    "# # run cell as-is\n",
    "fig, ax = plt.subplots(figsize=(12, 12))\n",
    "\n",
    "boro_joined.to_crs(epsg=2263).plot(\n",
    "    column='boro_pop_per_hosp_bed', \n",
    "    cmap='OrRd',\n",
    "    edgecolor='darkgray',\n",
    "    linewidth=0.8,\n",
    "    scheme='quantiles',\n",
    "    ax=ax,\n",
    "    legend=True,\n",
    "    legend_kwds={\n",
    "        'title': 'Population per Hospital Bed',\n",
    "        'loc': 'upper left',\n",
    "        'shadow': True,\n",
    "        'facecolor': 'white',\n",
    "    },\n",
    ")\n",
    "\n",
    "ax.xaxis.set_ticklabels([])\n",
    "ax.yaxis.set_ticklabels([])\n",
    "\n",
    "plt.title('Borough Population per Hospital Bed')\n",
    "\n",
    "plt.savefig('img/borough_pop_per_hosp_bed.png')\n",
    "plt.show();"
   ]
  },
  {
   "cell_type": "code",
   "execution_count": 87,
   "metadata": {},
   "outputs": [],
   "source": [
    "# Note, I'd probably spend a little more time on the legend labels. \n",
    "# Also, would probably get rid of the ggplot background and tick's. \n",
    "# Plotting in Python, requires a lot of code. "
   ]
  }
 ],
 "metadata": {
  "kernelspec": {
   "display_name": "Python 3",
   "language": "python",
   "name": "python3"
  },
  "language_info": {
   "codemirror_mode": {
    "name": "ipython",
    "version": 3
   },
   "file_extension": ".py",
   "mimetype": "text/x-python",
   "name": "python",
   "nbconvert_exporter": "python",
   "pygments_lexer": "ipython3",
   "version": "3.7.0"
  },
  "toc": {
   "base_numbering": 1,
   "nav_menu": {},
   "number_sections": false,
   "sideBar": true,
   "skip_h1_title": false,
   "title_cell": "Table of Contents",
   "title_sidebar": "Contents",
   "toc_cell": true,
   "toc_position": {
    "height": "calc(100% - 180px)",
    "left": "10px",
    "top": "150px",
    "width": "181.989px"
   },
   "toc_section_display": true,
   "toc_window_display": true
  }
 },
 "nbformat": 4,
 "nbformat_minor": 2
}
